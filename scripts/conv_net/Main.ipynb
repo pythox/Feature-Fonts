{
 "cells": [
  {
   "cell_type": "markdown",
   "metadata": {},
   "source": [
    "\n",
    "# <font color='red'><i> Font Recognition by <b>16BCE103 & 16BCE094</b> </i> </font>"
   ]
  },
  {
   "cell_type": "code",
   "execution_count": 1,
   "metadata": {},
   "outputs": [
    {
     "name": "stderr",
     "output_type": "stream",
     "text": [
      "C:\\Anaconda\\envs\\tf\\lib\\site-packages\\tensorflow\\python\\framework\\dtypes.py:523: FutureWarning: Passing (type, 1) or '1type' as a synonym of type is deprecated; in a future version of numpy, it will be understood as (type, (1,)) / '(1,)type'.\n",
      "  _np_qint8 = np.dtype([(\"qint8\", np.int8, 1)])\n",
      "C:\\Anaconda\\envs\\tf\\lib\\site-packages\\tensorflow\\python\\framework\\dtypes.py:524: FutureWarning: Passing (type, 1) or '1type' as a synonym of type is deprecated; in a future version of numpy, it will be understood as (type, (1,)) / '(1,)type'.\n",
      "  _np_quint8 = np.dtype([(\"quint8\", np.uint8, 1)])\n",
      "C:\\Anaconda\\envs\\tf\\lib\\site-packages\\tensorflow\\python\\framework\\dtypes.py:525: FutureWarning: Passing (type, 1) or '1type' as a synonym of type is deprecated; in a future version of numpy, it will be understood as (type, (1,)) / '(1,)type'.\n",
      "  _np_qint16 = np.dtype([(\"qint16\", np.int16, 1)])\n",
      "C:\\Anaconda\\envs\\tf\\lib\\site-packages\\tensorflow\\python\\framework\\dtypes.py:526: FutureWarning: Passing (type, 1) or '1type' as a synonym of type is deprecated; in a future version of numpy, it will be understood as (type, (1,)) / '(1,)type'.\n",
      "  _np_quint16 = np.dtype([(\"quint16\", np.uint16, 1)])\n",
      "C:\\Anaconda\\envs\\tf\\lib\\site-packages\\tensorflow\\python\\framework\\dtypes.py:527: FutureWarning: Passing (type, 1) or '1type' as a synonym of type is deprecated; in a future version of numpy, it will be understood as (type, (1,)) / '(1,)type'.\n",
      "  _np_qint32 = np.dtype([(\"qint32\", np.int32, 1)])\n",
      "C:\\Anaconda\\envs\\tf\\lib\\site-packages\\tensorflow\\python\\framework\\dtypes.py:532: FutureWarning: Passing (type, 1) or '1type' as a synonym of type is deprecated; in a future version of numpy, it will be understood as (type, (1,)) / '(1,)type'.\n",
      "  np_resource = np.dtype([(\"resource\", np.ubyte, 1)])\n"
     ]
    }
   ],
   "source": [
    "import os\n",
    "import numpy as np\n",
    "from sklearn.model_selection import train_test_split\n",
    "from sklearn.preprocessing import OneHotEncoder\n",
    "from sklearn.metrics import roc_auc_score, accuracy_score, confusion_matrix\n",
    "import slidingwindow as sw\n",
    "import cv2\n",
    "import matplotlib.pyplot as plt\n",
    "from tensorflow.keras.models import Sequential\n",
    "from tensorflow.keras.layers import Conv2D, Flatten, Dense, MaxPooling2D\n",
    "from tensorflow.keras import optimizers\n",
    "from tensorflow.keras import losses"
   ]
  },
  {
   "cell_type": "markdown",
   "metadata": {},
   "source": [
    "### <font color='blue'><i> Visualization of sliding window </i> </font>"
   ]
  },
  {
   "cell_type": "code",
   "execution_count": 2,
   "metadata": {},
   "outputs": [
    {
     "name": "stdout",
     "output_type": "stream",
     "text": [
      "Dimensions before transformation :  2122 256\n",
      "Dimensions after transformation :  2122 256\n",
      "(256, 2122)\n"
     ]
    },
    {
     "data": {
      "image/png": "[encoded data removed]",
      "text/plain": [
       "<Figure size 432x288 with 1 Axes>"
      ]
     },
     "metadata": {
      "needs_background": "light"
     },
     "output_type": "display_data"
    },
    {
     "data": {
      "image/png": "[encoded data removed]",
      "text/plain": [
       "<Figure size 432x288 with 1 Axes>"
      ]
     },
     "metadata": {
      "needs_background": "light"
     },
     "output_type": "display_data"
    },
    {
     "data": {
      "image/png": "[encoded data removed]",
      "text/plain": [
       "<Figure size 432x288 with 16 Axes>"
      ]
     },
     "metadata": {
      "needs_background": "light"
     },
     "output_type": "display_data"
    }
   ],
   "source": [
    "img = cv2.imread('../syn_generate/plain/bauhas_3.jpg', cv2.IMREAD_GRAYSCALE)\n",
    "(h, w) = np.shape(img)\n",
    "\n",
    "print(\"Dimensions before transformation : \", w, h)\n",
    "\n",
    "if h < 256:\n",
    "    ratio = 256 / h\n",
    "    h = 256\n",
    "    w = int(w * ratio)\n",
    "else:\n",
    "    ratio = h / 256\n",
    "    h = 256\n",
    "    w = int(w / ratio)\n",
    "\n",
    "new_img = cv2.resize(img, (w, h))\n",
    "windows = sw.generate(new_img, sw.DimOrder.HeightWidthChannel, 256, 0.5)\n",
    "\n",
    "print(\"Dimensions after transformation : \", w, h)\n",
    "\n",
    "print(np.shape(img))\n",
    "plt.imshow(img, cmap=plt.get_cmap('gray'))\n",
    "plt.title('Actual Image')\n",
    "plt.show()\n",
    "\n",
    "plt.imshow(new_img, cmap=plt.get_cmap('gray'))\n",
    "plt.title('Transformed image')\n",
    "plt.show()\n",
    "\n",
    "fig, axs = plt.subplots(len(windows))\n",
    "fig.suptitle('Windows')\n",
    "for i in range(0, len(windows)):\n",
    "    axs[i].imshow(new_img[windows[i].indices()], cmap=plt.get_cmap('gray'))\n",
    "\n",
    "plt.show()"
   ]
  },
  {
   "cell_type": "code",
   "execution_count": 3,
   "metadata": {},
   "outputs": [],
   "source": [
    "# Globals\n",
    "batch_size = 8\n",
    "epoch = 10"
   ]
  },
  {
   "cell_type": "code",
   "execution_count": 4,
   "metadata": {},
   "outputs": [],
   "source": [
    "# Creating data generators feeding 8 images at a time\n",
    "def train_generator(batch_number_train, train_x, train_y):\n",
    "    start_index = (batch_number_train-1)*batch_size\n",
    "    end_index = batch_number_train*batch_size-1\n",
    "    x, y = [], []\n",
    "    for i in range(start_index, end_index + 1):\n",
    "        img = cv2.imread(train_x[i], cv2.IMREAD_GRAYSCALE)\n",
    "        (h, w) = np.shape(img)\n",
    "        if h < 256:\n",
    "            ratio = 256 / h\n",
    "            h = 256\n",
    "            w = int(w * ratio)\n",
    "        else:\n",
    "            ratio = h / 256\n",
    "            h = 256\n",
    "            w = int(w / ratio)\n",
    "        new_img = cv2.resize(img, (w, h))\n",
    "        windows = sw.generate(new_img, sw.DimOrder.HeightWidthChannel, 256, 0.5)\n",
    "        for j in range(0, len(windows)):\n",
    "            x.append(new_img[windows[j].indices()])\n",
    "            y.append(train_y[i])\n",
    "    x = np.array(x, dtype='float32')\n",
    "    x /= 255\n",
    "    (s,h,w) = np.shape(x)\n",
    "    x = np.reshape(x, (s, h, w, 1))\n",
    "    y = np.array(encoder.transform(y).toarray())\n",
    "    return x, y"
   ]
  },
  {
   "cell_type": "code",
   "execution_count": 5,
   "metadata": {},
   "outputs": [],
   "source": [
    "# Evalutating all the metrics using testing set\n",
    "def validate(model, x, y):\n",
    "    y_true, y_pred = [], []\n",
    "    for i in range(0, len(x)):\n",
    "        tx = []\n",
    "        img = cv2.imread(x[i], cv2.IMREAD_GRAYSCALE)\n",
    "        (h, w) = np.shape(img)\n",
    "        if h < 256:\n",
    "            ratio = 256 / h\n",
    "            h = 256\n",
    "            w = int(w * ratio)\n",
    "        else:\n",
    "            ratio = h / 256\n",
    "            h = 256\n",
    "            w = int(w / ratio)\n",
    "        new_img = cv2.resize(img, (w, h))\n",
    "        windows = sw.generate(new_img, sw.DimOrder.HeightWidthChannel, 256, 0.5)\n",
    "        for j in range(0, len(windows)):\n",
    "            tx.append(new_img[windows[j].indices()])\n",
    "        tx = np.array(tx, dtype='float32')\n",
    "        tx /= 255\n",
    "        (s, h, w) = np.shape(tx)\n",
    "        tx = np.reshape(tx, (s, h, w, 1))\n",
    "        ty = model.predict(tx)\n",
    "        final_sf = np.zeros(dtype='float32', shape=(10))\n",
    "        for ti in range(0, len(ty)):\n",
    "            for tj in range(0, 10):\n",
    "                final_sf[tj] += ty[ti][tj]\n",
    "        final_sf /= len(ty)\n",
    "        final_sf = final_sf.reshape((-1, 10))\n",
    "        y_pred.append(encoder.inverse_transform(final_sf)[0])\n",
    "        y_true.append(y[i])\n",
    "#     print(\"CONFUSION MATRIX\")\n",
    "#     print(confusion_matrix(y_true, y_pred))\n",
    "    print(\"ACCURACY\", accuracy_score(y_true, y_pred))"
   ]
  },
  {
   "cell_type": "code",
   "execution_count": 6,
   "metadata": {},
   "outputs": [],
   "source": [
    "# Loading image destinations with their labels\n",
    "path = '../syn_generate/plain/'\n",
    "files = [f for f in os.listdir(path)]\n",
    "x, y = [], []\n",
    "for i in range(0, len(files)):\n",
    "    file_name = os.path.splitext(os.path.basename(files[i]))[0]\n",
    "    y.append(file_name.split('_')[0])\n",
    "    x.append(os.path.join(path, files[i]))\n",
    "y = np.reshape(y, (-1, 1))"
   ]
  },
  {
   "cell_type": "code",
   "execution_count": 7,
   "metadata": {},
   "outputs": [
    {
     "data": {
      "text/plain": [
       "OneHotEncoder(categorical_features=None, categories=None, drop=None,\n",
       "              dtype=<class 'numpy.float64'>, handle_unknown='ignore',\n",
       "              n_values=None, sparse=True)"
      ]
     },
     "execution_count": 7,
     "metadata": {},
     "output_type": "execute_result"
    }
   ],
   "source": [
    "# Fit the OneHotEncoder\n",
    "encoder = OneHotEncoder(handle_unknown='ignore')\n",
    "encoder.fit(y)"
   ]
  },
  {
   "cell_type": "code",
   "execution_count": 8,
   "metadata": {},
   "outputs": [],
   "source": [
    "# Split into train and test\n",
    "train_x, test_x, train_y, test_y = train_test_split(x, y, test_size=0.33, random_state=44)\n",
    "del x, y"
   ]
  },
  {
   "cell_type": "code",
   "execution_count": 9,
   "metadata": {},
   "outputs": [
    {
     "name": "stdout",
     "output_type": "stream",
     "text": [
      "_________________________________________________________________\n",
      "Layer (type)                 Output Shape              Param #   \n",
      "=================================================================\n",
      "conv2d (Conv2D)              (None, 254, 254, 16)      160       \n",
      "_________________________________________________________________\n",
      "max_pooling2d (MaxPooling2D) (None, 127, 127, 16)      0         \n",
      "_________________________________________________________________\n",
      "conv2d_1 (Conv2D)            (None, 125, 125, 32)      4640      \n",
      "_________________________________________________________________\n",
      "max_pooling2d_1 (MaxPooling2 (None, 62, 62, 32)        0         \n",
      "_________________________________________________________________\n",
      "conv2d_2 (Conv2D)            (None, 60, 60, 32)        9248      \n",
      "_________________________________________________________________\n",
      "max_pooling2d_2 (MaxPooling2 (None, 30, 30, 32)        0         \n",
      "_________________________________________________________________\n",
      "conv2d_3 (Conv2D)            (None, 28, 28, 32)        9248      \n",
      "_________________________________________________________________\n",
      "max_pooling2d_3 (MaxPooling2 (None, 14, 14, 32)        0         \n",
      "_________________________________________________________________\n",
      "flatten (Flatten)            (None, 6272)              0         \n",
      "_________________________________________________________________\n",
      "dense (Dense)                (None, 10)                62730     \n",
      "=================================================================\n",
      "Total params: 86,026\n",
      "Trainable params: 86,026\n",
      "Non-trainable params: 0\n",
      "_________________________________________________________________\n",
      "None\n"
     ]
    }
   ],
   "source": [
    "# Create the model\n",
    "model = Sequential()\n",
    "model.add(Conv2D(16, kernel_size=3, activation='relu', input_shape=(256, 256, 1)))\n",
    "model.add(MaxPooling2D((2,2), strides=(2,2), padding='valid', data_format='channels_last'))\n",
    "model.add(Conv2D(32, kernel_size=3, activation='relu'))\n",
    "model.add(MaxPooling2D((2,2), strides=(2,2), padding='valid', data_format='channels_last'))\n",
    "model.add(Conv2D(32, kernel_size=3, activation='relu'))\n",
    "model.add(MaxPooling2D((2,2), strides=(2,2), padding='valid', data_format='channels_last'))\n",
    "model.add(Conv2D(32, kernel_size=3, activation='relu'))\n",
    "model.add(MaxPooling2D((2,2), strides=(2,2), padding='valid', data_format='channels_last'))\n",
    "model.add(Flatten())\n",
    "model.add(Dense(10, activation='softmax'))\n",
    "model.compile(optimizer=optimizers.Adam(lr=0.001), loss='categorical_crossentropy', metrics=['accuracy'])\n",
    "print(model.summary())"
   ]
  },
  {
   "cell_type": "markdown",
   "metadata": {},
   "source": [
    "### <font color='blue'><i> Training </i> </font>"
   ]
  },
  {
   "cell_type": "code",
   "execution_count": 10,
   "metadata": {},
   "outputs": [
    {
     "name": "stdout",
     "output_type": "stream",
     "text": [
      "Epoch :  0  Batch :  10\n",
      "Epoch :  0  Batch :  20\n",
      "Epoch :  0  Batch :  30\n",
      "Epoch :  0  Batch :  40\n",
      "Epoch :  0  Batch :  50\n",
      "Epoch :  0  Batch :  60\n",
      "Epoch :  0  Batch :  70\n",
      "Epoch :  0  Batch :  80\n",
      "ACCURACY 0.693939393939394\n",
      "Epoch :  1  Batch :  10\n",
      "Epoch :  1  Batch :  20\n",
      "Epoch :  1  Batch :  30\n",
      "Epoch :  1  Batch :  40\n",
      "Epoch :  1  Batch :  50\n",
      "Epoch :  1  Batch :  60\n",
      "Epoch :  1  Batch :  70\n",
      "Epoch :  1  Batch :  80\n",
      "ACCURACY 0.8212121212121212\n",
      "Epoch :  2  Batch :  10\n",
      "Epoch :  2  Batch :  20\n",
      "Epoch :  2  Batch :  30\n",
      "Epoch :  2  Batch :  40\n",
      "Epoch :  2  Batch :  50\n",
      "Epoch :  2  Batch :  60\n",
      "Epoch :  2  Batch :  70\n",
      "Epoch :  2  Batch :  80\n",
      "ACCURACY 0.9545454545454546\n",
      "Epoch :  3  Batch :  10\n",
      "Epoch :  3  Batch :  20\n",
      "Epoch :  3  Batch :  30\n",
      "Epoch :  3  Batch :  40\n",
      "Epoch :  3  Batch :  50\n",
      "Epoch :  3  Batch :  60\n",
      "Epoch :  3  Batch :  70\n",
      "Epoch :  3  Batch :  80\n",
      "ACCURACY 0.9787878787878788\n",
      "Epoch :  4  Batch :  10\n",
      "Epoch :  4  Batch :  20\n",
      "Epoch :  4  Batch :  30\n",
      "Epoch :  4  Batch :  40\n",
      "Epoch :  4  Batch :  50\n",
      "Epoch :  4  Batch :  60\n",
      "Epoch :  4  Batch :  70\n",
      "Epoch :  4  Batch :  80\n",
      "ACCURACY 0.9787878787878788\n",
      "Epoch :  5  Batch :  10\n",
      "Epoch :  5  Batch :  20\n",
      "Epoch :  5  Batch :  30\n",
      "Epoch :  5  Batch :  40\n",
      "Epoch :  5  Batch :  50\n",
      "Epoch :  5  Batch :  60\n",
      "Epoch :  5  Batch :  70\n"
     ]
    },
    {
     "name": "stderr",
     "output_type": "stream",
     "text": [
      "ERROR:root:Internal Python error in the inspect module.\n",
      "Below is the traceback from this internal error.\n",
      "\n"
     ]
    },
    {
     "name": "stdout",
     "output_type": "stream",
     "text": [
      "Traceback (most recent call last):\n",
      "  File \"C:\\Anaconda\\envs\\tf\\lib\\site-packages\\IPython\\core\\interactiveshell.py\", line 3267, in run_code\n",
      "    exec(code_obj, self.user_global_ns, self.user_ns)\n",
      "  File \"<ipython-input-10-3b6d0d1feecd>\", line 7, in <module>\n",
      "    model.fit(x, y, verbose=0)\n",
      "  File \"C:\\Anaconda\\envs\\tf\\lib\\site-packages\\tensorflow\\python\\keras\\engine\\training.py\", line 1639, in fit\n",
      "    validation_steps=validation_steps)\n",
      "  File \"C:\\Anaconda\\envs\\tf\\lib\\site-packages\\tensorflow\\python\\keras\\engine\\training_arrays.py\", line 215, in fit_loop\n",
      "    outs = f(ins_batch)\n",
      "  File \"C:\\Anaconda\\envs\\tf\\lib\\site-packages\\tensorflow\\python\\keras\\backend.py\", line 2986, in __call__\n",
      "    run_metadata=self.run_metadata)\n",
      "  File \"C:\\Anaconda\\envs\\tf\\lib\\site-packages\\tensorflow\\python\\client\\session.py\", line 1439, in __call__\n",
      "    run_metadata_ptr)\n",
      "KeyboardInterrupt\n",
      "\n",
      "During handling of the above exception, another exception occurred:\n",
      "\n",
      "Traceback (most recent call last):\n",
      "  File \"C:\\Anaconda\\envs\\tf\\lib\\site-packages\\IPython\\core\\interactiveshell.py\", line 2018, in showtraceback\n",
      "    stb = value._render_traceback_()\n",
      "AttributeError: 'KeyboardInterrupt' object has no attribute '_render_traceback_'\n",
      "\n",
      "During handling of the above exception, another exception occurred:\n",
      "\n",
      "Traceback (most recent call last):\n",
      "  File \"C:\\Anaconda\\envs\\tf\\lib\\site-packages\\IPython\\core\\ultratb.py\", line 1095, in get_records\n",
      "    return _fixed_getinnerframes(etb, number_of_lines_of_context, tb_offset)\n",
      "  File \"C:\\Anaconda\\envs\\tf\\lib\\site-packages\\IPython\\core\\ultratb.py\", line 313, in wrapped\n",
      "    return f(*args, **kwargs)\n",
      "  File \"C:\\Anaconda\\envs\\tf\\lib\\site-packages\\IPython\\core\\ultratb.py\", line 347, in _fixed_getinnerframes\n",
      "    records = fix_frame_records_filenames(inspect.getinnerframes(etb, context))\n",
      "  File \"C:\\Anaconda\\envs\\tf\\lib\\inspect.py\", line 1490, in getinnerframes\n",
      "    frameinfo = (tb.tb_frame,) + getframeinfo(tb, context)\n",
      "  File \"C:\\Anaconda\\envs\\tf\\lib\\inspect.py\", line 1448, in getframeinfo\n",
      "    filename = getsourcefile(frame) or getfile(frame)\n",
      "  File \"C:\\Anaconda\\envs\\tf\\lib\\inspect.py\", line 696, in getsourcefile\n",
      "    if getattr(getmodule(object, filename), '__loader__', None) is not None:\n",
      "  File \"C:\\Anaconda\\envs\\tf\\lib\\inspect.py\", line 739, in getmodule\n",
      "    f = getabsfile(module)\n",
      "  File \"C:\\Anaconda\\envs\\tf\\lib\\inspect.py\", line 708, in getabsfile\n",
      "    _filename = getsourcefile(object) or getfile(object)\n",
      "  File \"C:\\Anaconda\\envs\\tf\\lib\\inspect.py\", line 693, in getsourcefile\n",
      "    if os.path.exists(filename):\n",
      "  File \"C:\\Anaconda\\envs\\tf\\lib\\genericpath.py\", line 19, in exists\n",
      "    os.stat(path)\n",
      "KeyboardInterrupt\n"
     ]
    },
    {
     "ename": "KeyboardInterrupt",
     "evalue": "",
     "output_type": "error",
     "traceback": [
      "\u001b[1;31m---------------------------------------------------------------------------\u001b[0m"
     ]
    }
   ],
   "source": [
    "# Train the model\n",
    "for epoch_no in range(0, 10):\n",
    "    for batch in range(1, len(train_x)//batch_size):\n",
    "        if batch%10==0:\n",
    "            print(\"Epoch : \", epoch_no, \" Batch : \", batch)\n",
    "        x, y = train_generator(batch, train_x, train_y)\n",
    "        model.fit(x, y, verbose=0)\n",
    "    validate(model, test_x, test_y)"
   ]
  },
  {
   "cell_type": "markdown",
   "metadata": {},
   "source": [
    "### <font color='blue'><i> Evaluation of the model </i> </font>"
   ]
  },
  {
   "cell_type": "code",
   "execution_count": null,
   "metadata": {},
   "outputs": [],
   "source": [
    "# Calculate the confusion matrix\n",
    "validate(model, test_x, test_y)"
   ]
  }
 ],
 "metadata": {
  "kernelspec": {
   "display_name": "Python 3",
   "language": "python",
   "name": "python3"
  },
  "language_info": {
   "codemirror_mode": {
    "name": "ipython",
    "version": 3
   },
   "file_extension": ".py",
   "mimetype": "text/x-python",
   "name": "python",
   "nbconvert_exporter": "python",
   "pygments_lexer": "ipython3",
   "version": "3.6.8"
  }
 },
 "nbformat": 4,
 "nbformat_minor": 2
}
